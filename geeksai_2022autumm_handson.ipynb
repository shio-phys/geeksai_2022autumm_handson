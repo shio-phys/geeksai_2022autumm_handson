{
  "nbformat": 4,
  "nbformat_minor": 0,
  "metadata": {
    "colab": {
      "provenance": [],
      "collapsed_sections": []
    },
    "kernelspec": {
      "name": "python3",
      "display_name": "Python 3"
    },
    "language_info": {
      "name": "python"
    }
  },
  "cells": [
    {
      "cell_type": "markdown",
      "source": [
        "# 初期設定"
      ],
      "metadata": {
        "id": "Ep6jJ1E67vd6"
      }
    },
    {
      "cell_type": "markdown",
      "source": [
        "Scrapyのインストール & プロジェクト作成"
      ],
      "metadata": {
        "id": "EZ8XJYbK1Y9v"
      }
    },
    {
      "cell_type": "code",
      "execution_count": null,
      "metadata": {
        "id": "jp4tMni4nunM"
      },
      "outputs": [],
      "source": [
        "%%bash\n",
        "pip install scrapy\n",
        "scrapy startproject tutorial\n",
        "cd tutorial\n",
        "scrapy genspider zozo zozo.jp"
      ]
    },
    {
      "cell_type": "markdown",
      "source": [
        "今後のscrapyコマンドの実行のために、カレントディレクトリを切り替えておく"
      ],
      "metadata": {
        "id": "XihiVw7A72nz"
      }
    },
    {
      "cell_type": "code",
      "source": [
        "%cd /content/tutorial"
      ],
      "metadata": {
        "id": "Uhv2f9OBulSo"
      },
      "execution_count": null,
      "outputs": []
    },
    {
      "cell_type": "markdown",
      "source": [
        "settings.pyに初期設定を書き込む"
      ],
      "metadata": {
        "id": "Otelhyx54G9Y"
      }
    },
    {
      "cell_type": "code",
      "source": [
        "%%writefile -a tutorial/settings.py\n",
        "\n",
        "# User Agentを主要ブラウザと同じものに設定\n",
        "USER_AGENT = 'Mozilla/5.0 (Macintosh; Intel Mac OS X 10_12_3) AppleWebKit/602.4.8 (KHTML, like Gecko) Version/10.0.3 Safari/602.4.8'\n",
        "\n",
        "# ダウンロード間隔を1秒に設定\n",
        "DOWNLOAD_DELAY = 1\n",
        "\n",
        "# パース結果の日本語を出力するために設定\n",
        "FEED_EXPORT_ENCODING = 'utf-8'"
      ],
      "metadata": {
        "colab": {
          "base_uri": "https://localhost:8080/"
        },
        "id": "6Mhf1iZO4OYJ",
        "outputId": "1752d383-3b61-442d-d632-dd77c5a5d5dd"
      },
      "execution_count": 18,
      "outputs": [
        {
          "output_type": "stream",
          "name": "stdout",
          "text": [
            "Appending to tutorial/settings.py\n"
          ]
        }
      ]
    },
    {
      "cell_type": "markdown",
      "source": [
        "# ZOZOTOWNの商品名を取得する"
      ],
      "metadata": {
        "id": "76Oq97TW69Df"
      }
    },
    {
      "cell_type": "code",
      "source": [
        "%%writefile tutorial/spiders/zozo.py\n",
        "import scrapy\n",
        "\n",
        "class ZozoSpider(scrapy.Spider):\n",
        "    # コマンドラインから起動する時の名前\n",
        "    name = 'zozo'\n",
        "    allowed_domains = ['zozo.jp']\n",
        "    # 商品詳細URLを指定\n",
        "    start_urls = [\n",
        "\t\t\t'https://zozo.jp/shop/zozo/goods-sale/52717046/'\n",
        "    ]\n",
        "\n",
        "    def parse(self, response):\n",
        "        # 商品名を取得するためのXPathを指定\n",
        "        title = response.xpath('//h1/text()').get().strip()\n",
        "        yield {'title': title }\n"
      ],
      "metadata": {
        "id": "lca1JfTM6uj7"
      },
      "execution_count": null,
      "outputs": []
    },
    {
      "cell_type": "markdown",
      "source": [
        "scrapy crawlコマンドでクローリングを実行"
      ],
      "metadata": {
        "id": "3AHrWd9_8I8s"
      }
    },
    {
      "cell_type": "code",
      "source": [
        "%%bash\n",
        "scrapy crawl zozo -o result.csv"
      ],
      "metadata": {
        "id": "mpittJex7CrO"
      },
      "execution_count": null,
      "outputs": []
    },
    {
      "cell_type": "code",
      "source": [
        "%%bash\n",
        "cat result.csv"
      ],
      "metadata": {
        "id": "9u6QLFnO8OU-"
      },
      "execution_count": null,
      "outputs": []
    },
    {
      "cell_type": "markdown",
      "source": [
        "# ページをたどりながら複数商品をクローリングする"
      ],
      "metadata": {
        "id": "YTu9ZlCW8naB"
      }
    },
    {
      "cell_type": "code",
      "source": [
        "%%writefile -a tutorial/spiders/zozo.py\n",
        "\n",
        "    # クローリング処理の開始\n",
        "    def start_requests(self):\n",
        "        url = 'https://zozo.jp/category/tops/'\n",
        "        yield scrapy.Request(url=url, callback=self.parse_list)\n",
        "\n",
        "    def parse_list(self, response):\n",
        "        # 次のリストページをたどる処理\n",
        "        next_page_url = response.xpath(\"次ページURLのXPath\").get()\n",
        "        yield response.follow(next_page_url, callback=self.parse_list)\n",
        "\n",
        "        # 詳細ページをたどる処理\n",
        "        detail_page_urls = response.xpath(\"詳細ページURLのXPath\").getall()\n",
        "        for detail_page_url in detail_page_urls:\n",
        "            yield response.follow(detail_page_url, callback=self.parse)\n"
      ],
      "metadata": {
        "id": "yF8Jq58A88Ib"
      },
      "execution_count": null,
      "outputs": []
    }
  ]
}
